{
  "cells": [
    {
      "cell_type": "code",
      "execution_count": 1,
      "metadata": {
        "id": "LAKoGk3ukRnm"
      },
      "outputs": [],
      "source": [
        "import pandas as pd\n",
        "import numpy as np\n",
        "import matplotlib.pyplot as plt\n",
        "%matplotlib inline"
      ]
    },
    {
      "cell_type": "code",
      "execution_count": 2,
      "metadata": {
        "id": "CHXcgfj3oxdl"
      },
      "outputs": [],
      "source": [
        "df = pd.read_excel(\"docs/search-data.xlsx\", sheet_name=\"main\")"
      ]
    },
    {
      "cell_type": "code",
      "execution_count": 3,
      "metadata": {
        "colab": {
          "base_uri": "https://localhost:8080/",
          "height": 367
        },
        "id": "dFP9hUWsplSg",
        "outputId": "31e820fc-d432-4f05-ed3e-abdf30ffcf8f"
      },
      "outputs": [
        {
          "data": {
            "text/html": [
              "<div>\n",
              "<style scoped>\n",
              "    .dataframe tbody tr th:only-of-type {\n",
              "        vertical-align: middle;\n",
              "    }\n",
              "\n",
              "    .dataframe tbody tr th {\n",
              "        vertical-align: top;\n",
              "    }\n",
              "\n",
              "    .dataframe thead th {\n",
              "        text-align: right;\n",
              "    }\n",
              "</style>\n",
              "<table border=\"1\" class=\"dataframe\">\n",
              "  <thead>\n",
              "    <tr style=\"text-align: right;\">\n",
              "      <th></th>\n",
              "      <th>No</th>\n",
              "      <th>Title</th>\n",
              "      <th>Source</th>\n",
              "      <th>URL</th>\n",
              "      <th>S_Title</th>\n",
              "      <th>S_Abstract</th>\n",
              "      <th>S_Content</th>\n",
              "      <th>Dataset</th>\n",
              "      <th>Method</th>\n",
              "      <th>Metrics</th>\n",
              "      <th>Year</th>\n",
              "      <th>Citation</th>\n",
              "    </tr>\n",
              "  </thead>\n",
              "  <tbody>\n",
              "    <tr>\n",
              "      <th>0</th>\n",
              "      <td>1</td>\n",
              "      <td>Text-based emotion detection: Advances, challe...</td>\n",
              "      <td>Google Scholar</td>\n",
              "      <td>https://onlinelibrary.wiley.com/doi/full/10.10...</td>\n",
              "      <td>v</td>\n",
              "      <td>v</td>\n",
              "      <td>x</td>\n",
              "      <td>x</td>\n",
              "      <td>x</td>\n",
              "      <td>x</td>\n",
              "      <td>2020.0</td>\n",
              "      <td>Acheampong FA, Wenyu C, Nunoo‐Mensah H. Text‐b...</td>\n",
              "    </tr>\n",
              "    <tr>\n",
              "      <th>1</th>\n",
              "      <td>2</td>\n",
              "      <td>Semantic-Emotion Neural Network for Emotion Re...</td>\n",
              "      <td>Google Scholar</td>\n",
              "      <td>https://ieeexplore.ieee.org/abstract/document/...</td>\n",
              "      <td>v</td>\n",
              "      <td>v</td>\n",
              "      <td>v</td>\n",
              "      <td>Public</td>\n",
              "      <td>SENN, BiLSTM, CNN</td>\n",
              "      <td>Recall, Precision, F1</td>\n",
              "      <td>2019.0</td>\n",
              "      <td>Batbaatar E, Li M, Ryu KH. Semantic-emotion ne...</td>\n",
              "    </tr>\n",
              "  </tbody>\n",
              "</table>\n",
              "</div>"
            ],
            "text/plain": [
              "   No                                              Title          Source   \n",
              "0   1  Text-based emotion detection: Advances, challe...  Google Scholar  \\\n",
              "1   2  Semantic-Emotion Neural Network for Emotion Re...  Google Scholar   \n",
              "\n",
              "                                                 URL S_Title S_Abstract   \n",
              "0  https://onlinelibrary.wiley.com/doi/full/10.10...       v          v  \\\n",
              "1  https://ieeexplore.ieee.org/abstract/document/...       v          v   \n",
              "\n",
              "  S_Content Dataset             Method                Metrics    Year   \n",
              "0         x       x                  x                      x  2020.0  \\\n",
              "1         v  Public  SENN, BiLSTM, CNN  Recall, Precision, F1  2019.0   \n",
              "\n",
              "                                            Citation  \n",
              "0  Acheampong FA, Wenyu C, Nunoo‐Mensah H. Text‐b...  \n",
              "1  Batbaatar E, Li M, Ryu KH. Semantic-emotion ne...  "
            ]
          },
          "execution_count": 3,
          "metadata": {},
          "output_type": "execute_result"
        }
      ],
      "source": [
        "df.head(2)"
      ]
    },
    {
      "cell_type": "code",
      "execution_count": 4,
      "metadata": {
        "colab": {
          "base_uri": "https://localhost:8080/"
        },
        "id": "tMvxD6Rb4dqB",
        "outputId": "a55b67e7-699a-4a7b-ada2-41e25171d8cd"
      },
      "outputs": [
        {
          "data": {
            "text/plain": [
              "(250, 12)"
            ]
          },
          "execution_count": 4,
          "metadata": {},
          "output_type": "execute_result"
        }
      ],
      "source": [
        "df.shape"
      ]
    },
    {
      "cell_type": "code",
      "execution_count": 5,
      "metadata": {
        "colab": {
          "base_uri": "https://localhost:8080/"
        },
        "id": "yog6QnbL4f-G",
        "outputId": "e2db47f5-4bb9-4dea-91e7-581731e39f32"
      },
      "outputs": [
        {
          "name": "stdout",
          "output_type": "stream",
          "text": [
            "<class 'pandas.core.frame.DataFrame'>\n",
            "RangeIndex: 250 entries, 0 to 249\n",
            "Data columns (total 12 columns):\n",
            " #   Column      Non-Null Count  Dtype  \n",
            "---  ------      --------------  -----  \n",
            " 0   No          250 non-null    int64  \n",
            " 1   Title       250 non-null    object \n",
            " 2   Source      250 non-null    object \n",
            " 3   URL         250 non-null    object \n",
            " 4   S_Title     250 non-null    object \n",
            " 5   S_Abstract  192 non-null    object \n",
            " 6   S_Content   192 non-null    object \n",
            " 7   Dataset     192 non-null    object \n",
            " 8   Method      192 non-null    object \n",
            " 9   Metrics     192 non-null    object \n",
            " 10  Year        192 non-null    float64\n",
            " 11  Citation    192 non-null    object \n",
            "dtypes: float64(1), int64(1), object(10)\n",
            "memory usage: 23.6+ KB\n"
          ]
        }
      ],
      "source": [
        "df.info()"
      ]
    },
    {
      "cell_type": "code",
      "execution_count": 6,
      "metadata": {
        "colab": {
          "base_uri": "https://localhost:8080/"
        },
        "id": "6M6d71fB42t6",
        "outputId": "76c08eb8-f4bd-44dc-b73f-f1f0f8c2c869"
      },
      "outputs": [
        {
          "data": {
            "text/plain": [
              "58"
            ]
          },
          "execution_count": 6,
          "metadata": {},
          "output_type": "execute_result"
        }
      ],
      "source": [
        "df.isnull().any(axis=1).sum()"
      ]
    },
    {
      "cell_type": "code",
      "execution_count": 7,
      "metadata": {
        "colab": {
          "base_uri": "https://localhost:8080/"
        },
        "id": "jNCCVeBn5aTI",
        "outputId": "d5debe8c-4e74-4dab-8bce-6196b70e81a4"
      },
      "outputs": [
        {
          "data": {
            "text/plain": [
              "2"
            ]
          },
          "execution_count": 7,
          "metadata": {},
          "output_type": "execute_result"
        }
      ],
      "source": [
        "df['Title'].duplicated().sum()"
      ]
    },
    {
      "cell_type": "code",
      "execution_count": 8,
      "metadata": {
        "id": "nRHwTxxM5t7W"
      },
      "outputs": [],
      "source": [
        "df.drop(columns=['No', 'URL', 'Citation'], inplace=True, axis=1)\n",
        "df.dropna(how='any', axis=0, inplace=True)\n",
        "df.drop_duplicates(subset=['Title'], keep='last', inplace=True)"
      ]
    },
    {
      "cell_type": "code",
      "execution_count": 9,
      "metadata": {
        "colab": {
          "base_uri": "https://localhost:8080/",
          "height": 191
        },
        "id": "Inij8BwT6VmO",
        "outputId": "52e49d81-9a17-479e-c6b0-a5d025231473"
      },
      "outputs": [
        {
          "data": {
            "text/html": [
              "<div>\n",
              "<style scoped>\n",
              "    .dataframe tbody tr th:only-of-type {\n",
              "        vertical-align: middle;\n",
              "    }\n",
              "\n",
              "    .dataframe tbody tr th {\n",
              "        vertical-align: top;\n",
              "    }\n",
              "\n",
              "    .dataframe thead th {\n",
              "        text-align: right;\n",
              "    }\n",
              "</style>\n",
              "<table border=\"1\" class=\"dataframe\">\n",
              "  <thead>\n",
              "    <tr style=\"text-align: right;\">\n",
              "      <th></th>\n",
              "      <th>Title</th>\n",
              "      <th>Source</th>\n",
              "      <th>S_Title</th>\n",
              "      <th>S_Abstract</th>\n",
              "      <th>S_Content</th>\n",
              "      <th>Dataset</th>\n",
              "      <th>Method</th>\n",
              "      <th>Metrics</th>\n",
              "      <th>Year</th>\n",
              "    </tr>\n",
              "  </thead>\n",
              "  <tbody>\n",
              "    <tr>\n",
              "      <th>0</th>\n",
              "      <td>Text-based emotion detection: Advances, challe...</td>\n",
              "      <td>Google Scholar</td>\n",
              "      <td>v</td>\n",
              "      <td>v</td>\n",
              "      <td>x</td>\n",
              "      <td>x</td>\n",
              "      <td>x</td>\n",
              "      <td>x</td>\n",
              "      <td>2020.0</td>\n",
              "    </tr>\n",
              "    <tr>\n",
              "      <th>1</th>\n",
              "      <td>Semantic-Emotion Neural Network for Emotion Re...</td>\n",
              "      <td>Google Scholar</td>\n",
              "      <td>v</td>\n",
              "      <td>v</td>\n",
              "      <td>v</td>\n",
              "      <td>Public</td>\n",
              "      <td>SENN, BiLSTM, CNN</td>\n",
              "      <td>Recall, Precision, F1</td>\n",
              "      <td>2019.0</td>\n",
              "    </tr>\n",
              "  </tbody>\n",
              "</table>\n",
              "</div>"
            ],
            "text/plain": [
              "                                               Title          Source S_Title   \n",
              "0  Text-based emotion detection: Advances, challe...  Google Scholar       v  \\\n",
              "1  Semantic-Emotion Neural Network for Emotion Re...  Google Scholar       v   \n",
              "\n",
              "  S_Abstract S_Content Dataset             Method                Metrics   \n",
              "0          v         x       x                  x                      x  \\\n",
              "1          v         v  Public  SENN, BiLSTM, CNN  Recall, Precision, F1   \n",
              "\n",
              "     Year  \n",
              "0  2020.0  \n",
              "1  2019.0  "
            ]
          },
          "execution_count": 9,
          "metadata": {},
          "output_type": "execute_result"
        }
      ],
      "source": [
        "df.head(2)"
      ]
    },
    {
      "cell_type": "code",
      "execution_count": 10,
      "metadata": {
        "colab": {
          "base_uri": "https://localhost:8080/"
        },
        "id": "A2AS2xwn6YWE",
        "outputId": "98cf0afa-be65-4800-d390-bd150e68d752"
      },
      "outputs": [
        {
          "data": {
            "text/plain": [
              "(191, 9)"
            ]
          },
          "execution_count": 10,
          "metadata": {},
          "output_type": "execute_result"
        }
      ],
      "source": [
        "df.shape"
      ]
    },
    {
      "cell_type": "code",
      "execution_count": 11,
      "metadata": {
        "id": "GRlIbyRE6ws3"
      },
      "outputs": [],
      "source": [
        "df['Year'] = df['Year'].astype(np.int64)"
      ]
    },
    {
      "cell_type": "code",
      "execution_count": 12,
      "metadata": {
        "colab": {
          "base_uri": "https://localhost:8080/"
        },
        "id": "byWDdbU260wu",
        "outputId": "cf8b9c85-9c68-4f5d-bbf0-64232aa80fb7"
      },
      "outputs": [
        {
          "data": {
            "text/plain": [
              "131"
            ]
          },
          "execution_count": 12,
          "metadata": {},
          "output_type": "execute_result"
        }
      ],
      "source": [
        "mask = df['S_Title'] == 'v'\n",
        "df[mask].shape[0]"
      ]
    },
    {
      "cell_type": "code",
      "execution_count": 13,
      "metadata": {
        "colab": {
          "base_uri": "https://localhost:8080/"
        },
        "id": "vlpvvkZF7JSz",
        "outputId": "9f564611-39ec-47bc-9388-7eaf3875cb49"
      },
      "outputs": [
        {
          "data": {
            "text/plain": [
              "114"
            ]
          },
          "execution_count": 13,
          "metadata": {},
          "output_type": "execute_result"
        }
      ],
      "source": [
        "mask = df['S_Abstract'] == 'v'\n",
        "df[mask].shape[0]"
      ]
    },
    {
      "cell_type": "code",
      "execution_count": 14,
      "metadata": {
        "colab": {
          "base_uri": "https://localhost:8080/"
        },
        "id": "YVcOOC-r7Ocd",
        "outputId": "6b5e7974-9f38-41f6-83f0-2a0bd07b77a0"
      },
      "outputs": [
        {
          "data": {
            "text/plain": [
              "50"
            ]
          },
          "execution_count": 14,
          "metadata": {},
          "output_type": "execute_result"
        }
      ],
      "source": [
        "mask = df['S_Content'] == 'v'\n",
        "clean = df[mask]\n",
        "clean.shape[0]"
      ]
    },
    {
      "cell_type": "code",
      "execution_count": 15,
      "metadata": {
        "colab": {
          "base_uri": "https://localhost:8080/",
          "height": 191
        },
        "id": "-Kzc2oVC7SIo",
        "outputId": "d530a102-b0ef-4659-8c5a-66bd3171c329"
      },
      "outputs": [
        {
          "data": {
            "text/html": [
              "<div>\n",
              "<style scoped>\n",
              "    .dataframe tbody tr th:only-of-type {\n",
              "        vertical-align: middle;\n",
              "    }\n",
              "\n",
              "    .dataframe tbody tr th {\n",
              "        vertical-align: top;\n",
              "    }\n",
              "\n",
              "    .dataframe thead th {\n",
              "        text-align: right;\n",
              "    }\n",
              "</style>\n",
              "<table border=\"1\" class=\"dataframe\">\n",
              "  <thead>\n",
              "    <tr style=\"text-align: right;\">\n",
              "      <th></th>\n",
              "      <th>Title</th>\n",
              "      <th>Source</th>\n",
              "      <th>S_Title</th>\n",
              "      <th>S_Abstract</th>\n",
              "      <th>S_Content</th>\n",
              "      <th>Dataset</th>\n",
              "      <th>Method</th>\n",
              "      <th>Metrics</th>\n",
              "      <th>Year</th>\n",
              "    </tr>\n",
              "  </thead>\n",
              "  <tbody>\n",
              "    <tr>\n",
              "      <th>1</th>\n",
              "      <td>Semantic-Emotion Neural Network for Emotion Re...</td>\n",
              "      <td>Google Scholar</td>\n",
              "      <td>v</td>\n",
              "      <td>v</td>\n",
              "      <td>v</td>\n",
              "      <td>Public</td>\n",
              "      <td>SENN, BiLSTM, CNN</td>\n",
              "      <td>Recall, Precision, F1</td>\n",
              "      <td>2019</td>\n",
              "    </tr>\n",
              "    <tr>\n",
              "      <th>4</th>\n",
              "      <td>Emotion and sentiment analysis from Twitter text</td>\n",
              "      <td>Google Scholar</td>\n",
              "      <td>v</td>\n",
              "      <td>v</td>\n",
              "      <td>v</td>\n",
              "      <td>Public</td>\n",
              "      <td>Naive Bayes, SVM, Random Forest</td>\n",
              "      <td>Accuracy</td>\n",
              "      <td>2019</td>\n",
              "    </tr>\n",
              "  </tbody>\n",
              "</table>\n",
              "</div>"
            ],
            "text/plain": [
              "                                               Title          Source S_Title   \n",
              "1  Semantic-Emotion Neural Network for Emotion Re...  Google Scholar       v  \\\n",
              "4   Emotion and sentiment analysis from Twitter text  Google Scholar       v   \n",
              "\n",
              "  S_Abstract S_Content Dataset                           Method   \n",
              "1          v         v  Public                SENN, BiLSTM, CNN  \\\n",
              "4          v         v  Public  Naive Bayes, SVM, Random Forest   \n",
              "\n",
              "                 Metrics  Year  \n",
              "1  Recall, Precision, F1  2019  \n",
              "4               Accuracy  2019  "
            ]
          },
          "execution_count": 15,
          "metadata": {},
          "output_type": "execute_result"
        }
      ],
      "source": [
        "clean.head(2)"
      ]
    },
    {
      "cell_type": "code",
      "execution_count": 16,
      "metadata": {
        "colab": {
          "base_uri": "https://localhost:8080/"
        },
        "id": "bDpGmAe67ecK",
        "outputId": "ed695803-bc19-4c75-c1cd-2bf6d9153be7"
      },
      "outputs": [
        {
          "data": {
            "text/plain": [
              "Source\n",
              "IEEE Explorer          14\n",
              "Science Direct         13\n",
              "Springer               10\n",
              "Google Scholar          8\n",
              "ACM Digital Library     5\n",
              "Name: count, dtype: int64"
            ]
          },
          "execution_count": 16,
          "metadata": {},
          "output_type": "execute_result"
        }
      ],
      "source": [
        "clean['Source'].value_counts()"
      ]
    },
    {
      "cell_type": "code",
      "execution_count": 17,
      "metadata": {
        "colab": {
          "base_uri": "https://localhost:8080/",
          "height": 568
        },
        "id": "yy8sVHI_7igc",
        "outputId": "9e6542da-fad7-47e4-d5ac-8997a1e55a8e"
      },
      "outputs": [
        {
          "data": {
            "text/plain": [
              "<Axes: >"
            ]
          },
          "execution_count": 17,
          "metadata": {},
          "output_type": "execute_result"
        },
        {
          "data": {
            "image/png": "[encoded data removed]",
            "text/plain": [
              "<Figure size 640x480 with 1 Axes>"
            ]
          },
          "metadata": {},
          "output_type": "display_data"
        }
      ],
      "source": [
        "clean['Source'].value_counts().plot(kind='bar', xlabel=\"\")"
      ]
    },
    {
      "cell_type": "code",
      "execution_count": 18,
      "metadata": {
        "colab": {
          "base_uri": "https://localhost:8080/"
        },
        "id": "Jt_etJ6LqL_R",
        "outputId": "3ba24143-ddf3-469a-b654-2872eba870de"
      },
      "outputs": [
        {
          "data": {
            "text/plain": [
              "Year\n",
              "2013     2\n",
              "2014     2\n",
              "2016     2\n",
              "2017     3\n",
              "2018     4\n",
              "2019     8\n",
              "2020    10\n",
              "2021    13\n",
              "2022     6\n",
              "Name: count, dtype: int64"
            ]
          },
          "execution_count": 18,
          "metadata": {},
          "output_type": "execute_result"
        }
      ],
      "source": [
        "clean['Year'].value_counts().sort_index()"
      ]
    },
    {
      "cell_type": "code",
      "execution_count": 19,
      "metadata": {
        "colab": {
          "base_uri": "https://localhost:8080/",
          "height": 793
        },
        "id": "zCBSjF08z2jm",
        "outputId": "e7b0edfc-3bab-473b-a39f-bc72b27716ff"
      },
      "outputs": [
        {
          "data": {
            "text/plain": [
              "<Axes: xlabel='Year', ylabel='Numbers of Articles'>"
            ]
          },
          "execution_count": 19,
          "metadata": {},
          "output_type": "execute_result"
        },
        {
          "data": {
            "image/png": "[encoded data removed]",
            "text/plain": [
              "<Figure size 640x480 with 1 Axes>"
            ]
          },
          "metadata": {},
          "output_type": "display_data"
        }
      ],
      "source": [
        "clean['Year'].value_counts().sort_index().plot(kind='line', ylabel=\"Numbers of Articles\")"
      ]
    },
    {
      "cell_type": "code",
      "execution_count": 20,
      "metadata": {
        "colab": {
          "base_uri": "https://localhost:8080/",
          "height": 467
        },
        "id": "AJ370pdtskE9",
        "outputId": "3daad42d-af77-44e6-c328-bbbab7412395"
      },
      "outputs": [
        {
          "data": {
            "image/png": "[encoded data removed]",
            "text/plain": [
              "<Figure size 640x480 with 1 Axes>"
            ]
          },
          "metadata": {},
          "output_type": "display_data"
        }
      ],
      "source": [
        "counts = clean.groupby(['Dataset', 'Year']).size().unstack('Dataset', fill_value=0)\n",
        "counts.plot(kind='line', ylabel=\"Numbers of Dataset\")\n",
        "plt.savefig('out/dataset-trend-line.png', dpi=300, bbox_inches='tight')"
      ]
    },
    {
      "cell_type": "code",
      "execution_count": 21,
      "metadata": {
        "colab": {
          "base_uri": "https://localhost:8080/"
        },
        "id": "bMeDXRxZ1a0M",
        "outputId": "c55b29a2-48b5-41e6-a17c-f2dd2268bc47"
      },
      "outputs": [
        {
          "data": {
            "text/plain": [
              "14"
            ]
          },
          "execution_count": 21,
          "metadata": {},
          "output_type": "execute_result"
        }
      ],
      "source": [
        "counts['Private'].sum()"
      ]
    },
    {
      "cell_type": "code",
      "execution_count": 22,
      "metadata": {
        "colab": {
          "base_uri": "https://localhost:8080/"
        },
        "id": "Y_MdzPO21yoQ",
        "outputId": "518a3f44-e8d2-425e-b48e-8457cc9bb2fe"
      },
      "outputs": [
        {
          "data": {
            "text/plain": [
              "36"
            ]
          },
          "execution_count": 22,
          "metadata": {},
          "output_type": "execute_result"
        }
      ],
      "source": [
        "counts['Public'].sum()"
      ]
    },
    {
      "cell_type": "code",
      "execution_count": 23,
      "metadata": {
        "colab": {
          "base_uri": "https://localhost:8080/",
          "height": 424
        },
        "id": "7czIVH0auuPw",
        "outputId": "748cfee7-087f-4aed-fe6b-c6ed927f7c15"
      },
      "outputs": [
        {
          "data": {
            "image/png": "[encoded data removed]",
            "text/plain": [
              "<Figure size 640x480 with 1 Axes>"
            ]
          },
          "metadata": {},
          "output_type": "display_data"
        }
      ],
      "source": [
        "labels = clean['Dataset'].unique()\n",
        "x = clean['Dataset'].value_counts()\n",
        "\n",
        "fig, ax = plt.subplots()\n",
        "ax.pie(x, autopct=lambda val : '{:.2f}%  ({:,.0f})'.format(val,val * sum(x)/100), labels=labels)\n",
        "ax.axis(\"equal\")\n",
        "plt.show\n",
        "plt.savefig('out/dataset-distribution-pie.png', dpi=300, bbox_inches='tight')"
      ]
    },
    {
      "cell_type": "code",
      "execution_count": 24,
      "metadata": {
        "colab": {
          "base_uri": "https://localhost:8080/"
        },
        "id": "xmirYePZwgCH",
        "outputId": "520fb197-1ca4-46d9-b06c-99fca1b026e6"
      },
      "outputs": [
        {
          "data": {
            "text/plain": [
              "SVM                                24\n",
              "Naive Bayes                        15\n",
              "BiLSTM                             11\n",
              "CNN                                11\n",
              "Random Forest                      11\n",
              "Decision Tree                       8\n",
              "LSTM                                7\n",
              "KNN                                 6\n",
              "Logistic Regression                 6\n",
              "BERT                                5\n",
              "RNN                                 3\n",
              "GRU                                 2\n",
              "ANN                                 2\n",
              "Multilayer Perceptron               2\n",
              "Pointwise Mutual Information        1\n",
              "FLM                                 1\n",
              "GLM                                 1\n",
              "MHA-BCNN                            1\n",
              "SENN                                1\n",
              "Multiclass Logistic Regression      1\n",
              "MLP                                 1\n",
              "IDS-ICM                             1\n",
              "HAN-ReGRU                           1\n",
              "Multi Kernel Gaussian Process       1\n",
              "LRA-DNN                             1\n",
              "SERR                                1\n",
              "Semi-supervised                     1\n",
              "Ensemble                            1\n",
              "AdaBoost                            1\n",
              "CRF                                 1\n",
              "BiGRU                               1\n",
              "Gradient Boosting Model             1\n",
              "LR-SGD                              1\n",
              "Multinomial Logistic Regression     1\n",
              "Stochastic Gradient Descent         1\n",
              "SVR                                 1\n",
              "SS-BED                              1\n",
              "ELReLUWL                            1\n",
              "Name: count, dtype: int64"
            ]
          },
          "execution_count": 24,
          "metadata": {},
          "output_type": "execute_result"
        }
      ],
      "source": [
        "methods_list = clean['Method'].str.split(', ')\n",
        "\n",
        "methods = [method for sublist in methods_list for method in sublist]\n",
        "\n",
        "methods = pd.Series(methods)\n",
        "methods.value_counts()"
      ]
    },
    {
      "cell_type": "code",
      "execution_count": 25,
      "metadata": {
        "colab": {
          "base_uri": "https://localhost:8080/"
        },
        "id": "3Zm0AytAGczL",
        "outputId": "6d532b1c-efa2-454b-f680-326a5d82a759"
      },
      "outputs": [
        {
          "data": {
            "text/plain": [
              "SVM                    24\n",
              "Naive Bayes            15\n",
              "BiLSTM                 11\n",
              "CNN                    11\n",
              "Random Forest          11\n",
              "Decision Tree           8\n",
              "LSTM                    7\n",
              "KNN                     6\n",
              "Logistic Regression     6\n",
              "BERT                    5\n",
              "Name: count, dtype: int64"
            ]
          },
          "execution_count": 25,
          "metadata": {},
          "output_type": "execute_result"
        }
      ],
      "source": [
        "methods.value_counts()[:10]"
      ]
    },
    {
      "cell_type": "code",
      "execution_count": 26,
      "metadata": {
        "colab": {
          "base_uri": "https://localhost:8080/",
          "height": 448
        },
        "id": "0Rgjvs7RxKcq",
        "outputId": "4fa537d0-95eb-42be-82ef-cf7eda33d266"
      },
      "outputs": [
        {
          "data": {
            "image/png": "[encoded data removed]",
            "text/plain": [
              "<Figure size 640x480 with 1 Axes>"
            ]
          },
          "metadata": {},
          "output_type": "display_data"
        }
      ],
      "source": [
        "methods.value_counts()[:15].plot(kind='barh', xticks=range(0,30,2))\n",
        "plt.savefig('out/methods-distribution-barh.png', dpi=300, bbox_inches='tight')"
      ]
    },
    {
      "cell_type": "code",
      "execution_count": 27,
      "metadata": {
        "id": "MzKEtKJZ76WJ"
      },
      "outputs": [
        {
          "data": {
            "text/plain": [
              "SVM              24\n",
              "Naive Bayes      15\n",
              "BiLSTM           11\n",
              "CNN              11\n",
              "Random Forest    11\n",
              "others           65\n",
              "Name: count, dtype: int64"
            ]
          },
          "execution_count": 27,
          "metadata": {},
          "output_type": "execute_result"
        }
      ],
      "source": [
        "top = methods.value_counts()[:5]\n",
        "other = methods.value_counts()[5:]\n",
        "top['others'] = other.sum()\n",
        "top"
      ]
    },
    {
      "cell_type": "code",
      "execution_count": 28,
      "metadata": {
        "colab": {
          "base_uri": "https://localhost:8080/",
          "height": 733
        },
        "id": "QpGLBI5i_42h",
        "outputId": "c06b04d4-a643-4eb9-c612-f597c736b6df"
      },
      "outputs": [
        {
          "data": {
            "image/png": "[encoded data removed]",
            "text/plain": [
              "<Figure size 640x480 with 1 Axes>"
            ]
          },
          "metadata": {},
          "output_type": "display_data"
        }
      ],
      "source": [
        "colors = ['orangered', 'orange', 'gold', 'lime', 'green', 'royalblue']\n",
        "top.plot(kind='pie', colors=colors, autopct='%1.1f%%', ylabel=\"\")\n",
        "plt.savefig('out/methods-distribution-pie.png', dpi=300, bbox_inches='tight')"
      ]
    },
    {
      "cell_type": "code",
      "execution_count": 29,
      "metadata": {
        "colab": {
          "base_uri": "https://localhost:8080/"
        },
        "id": "qUKl_btK_-eC",
        "outputId": "f7dec36f-0ab7-45f2-981d-97de13d7f5d3"
      },
      "outputs": [
        {
          "data": {
            "text/plain": [
              "['Recall',\n",
              " 'Precision',\n",
              " 'F1',\n",
              " 'Accuracy',\n",
              " 'F1',\n",
              " 'Sensitivity',\n",
              " 'Specificity',\n",
              " 'F1',\n",
              " 'Recall',\n",
              " 'Precision',\n",
              " 'F1',\n",
              " 'Accuracy',\n",
              " 'Precision',\n",
              " 'Sensitivity',\n",
              " 'Specificity',\n",
              " 'Precision',\n",
              " 'Recall',\n",
              " 'F1',\n",
              " 'Precision',\n",
              " 'Recall',\n",
              " 'F1',\n",
              " 'Accuracy',\n",
              " 'Efficiency',\n",
              " 'Sensitivity',\n",
              " 'F1',\n",
              " 'Precision',\n",
              " 'Recall',\n",
              " 'F1',\n",
              " 'Accuracy',\n",
              " 'Precision',\n",
              " 'Recall',\n",
              " 'F1',\n",
              " 'F1',\n",
              " 'Accuracy',\n",
              " 'Accuracy',\n",
              " 'Precision',\n",
              " 'Recall',\n",
              " 'F1',\n",
              " 'Accuracy',\n",
              " 'F1',\n",
              " 'Accuracy',\n",
              " 'Precision',\n",
              " 'Recall',\n",
              " 'F1',\n",
              " 'Accuracy',\n",
              " 'Precision',\n",
              " 'Recall',\n",
              " 'F1',\n",
              " 'F1',\n",
              " 'Precision',\n",
              " 'Recall',\n",
              " 'F1',\n",
              " 'Accuracy',\n",
              " 'Precision',\n",
              " 'Recall',\n",
              " 'F1',\n",
              " 'F1',\n",
              " 'Precision',\n",
              " 'Recall',\n",
              " 'F1',\n",
              " 'Precision',\n",
              " 'Recall',\n",
              " 'F1',\n",
              " 'Precision',\n",
              " 'Recall',\n",
              " 'F1',\n",
              " 'Accuracy',\n",
              " 'Precision',\n",
              " 'Recall',\n",
              " 'F1',\n",
              " 'F1',\n",
              " 'Accuracy',\n",
              " 'F1',\n",
              " 'F1',\n",
              " 'Precision',\n",
              " 'Recall',\n",
              " 'F1',\n",
              " 'Accuracy',\n",
              " 'Sensitivity',\n",
              " 'Specificity',\n",
              " 'Precision',\n",
              " 'Recall',\n",
              " 'F1',\n",
              " 'Accuracy',\n",
              " 'Accuracy',\n",
              " 'F1',\n",
              " 'T-test',\n",
              " 'Precision',\n",
              " 'Recall',\n",
              " 'F1',\n",
              " 'Precision',\n",
              " 'Recall',\n",
              " 'Accuracy',\n",
              " 'Accuracy',\n",
              " 'Precision',\n",
              " 'Recall',\n",
              " 'F1',\n",
              " 'Accuracy',\n",
              " 'Precision',\n",
              " 'Recall',\n",
              " 'F1',\n",
              " 'Accuracy',\n",
              " 'Precision',\n",
              " 'Recall',\n",
              " 'F1',\n",
              " 'Precision',\n",
              " 'Recall',\n",
              " 'F1',\n",
              " 'Precision',\n",
              " 'Recall',\n",
              " 'F1',\n",
              " 'Accuracy',\n",
              " 'Precision',\n",
              " 'Recall',\n",
              " 'F1',\n",
              " 'Precision',\n",
              " 'Recall',\n",
              " 'F1',\n",
              " 'Accuracy',\n",
              " 'F1',\n",
              " 'RMSE',\n",
              " 'AP',\n",
              " 'WD',\n",
              " 'Accuracy',\n",
              " 'Precision',\n",
              " 'Recall',\n",
              " 'F1',\n",
              " 'Accuracy',\n",
              " 'Accuracy',\n",
              " 'Precision',\n",
              " 'Recall',\n",
              " 'F1',\n",
              " 'Pearson Score',\n",
              " 'Mean Absolute Error',\n",
              " 'Accuracy']"
            ]
          },
          "execution_count": 29,
          "metadata": {},
          "output_type": "execute_result"
        }
      ],
      "source": [
        "metrics_list = clean['Metrics'].str.split(\", \")\n",
        "\n",
        "metrics = [metric for sublist in metrics_list for metric in sublist]\n",
        "metrics"
      ]
    },
    {
      "cell_type": "code",
      "execution_count": 30,
      "metadata": {
        "colab": {
          "base_uri": "https://localhost:8080/",
          "height": 506
        },
        "id": "mXqmi9fZAULh",
        "outputId": "16a897ef-55c4-4730-8d68-2ac0d7b79753"
      },
      "outputs": [
        {
          "data": {
            "image/png": "[encoded data removed]",
            "text/plain": [
              "<Figure size 640x480 with 1 Axes>"
            ]
          },
          "metadata": {},
          "output_type": "display_data"
        }
      ],
      "source": [
        "metrics = pd.Series(metrics)\n",
        "metrics.value_counts()[:5].plot(kind='bar')\n",
        "plt.savefig('out/metrics-distribution-bar.png', dpi=300, bbox_inches='tight')"
      ]
    }
  ],
  "metadata": {
    "colab": {
      "provenance": []
    },
    "kernelspec": {
      "display_name": "Python 3",
      "name": "python3"
    },
    "language_info": {
      "codemirror_mode": {
        "name": "ipython",
        "version": 3
      },
      "file_extension": ".py",
      "mimetype": "text/x-python",
      "name": "python",
      "nbconvert_exporter": "python",
      "pygments_lexer": "ipython3",
      "version": "3.10.6"
    }
  },
  "nbformat": 4,
  "nbformat_minor": 0
}
